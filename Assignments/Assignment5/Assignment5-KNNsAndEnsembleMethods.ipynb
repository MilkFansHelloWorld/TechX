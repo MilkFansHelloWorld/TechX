{
 "cells": [
  {
   "cell_type": "markdown",
   "metadata": {},
   "source": [
    "# Assignment 5: K-NNs and Ensemble Methods"
   ]
  },
  {
   "cell_type": "markdown",
   "metadata": {},
   "source": [
    "For this assignment, answer directly on this Jupyter notebook. Once you're done, please submit the assignment as \"Name_Surname_Assignment5.ipynb\"\n",
    "\n",
    "*Don't forget that commenting your code is very important!*"
   ]
  },
  {
   "cell_type": "markdown",
   "metadata": {},
   "source": [
    "\n",
    "\n",
    "\n",
    "###  K-NN Implementation\n",
    "\n",
    "- Implement the K-NN algorithm by hand (ie. Don't use the sklearn implementation).\n",
    "- Evaluate and plot model performance for different values of k.\n",
    "\n",
    "For this question, we will be using the classic Iris dataset, available in sklearn."
   ]
  },
  {
   "cell_type": "markdown",
   "metadata": {},
   "source": [
    "### 1. Import packages\n",
    "\n",
    "###### Importing packages and knowing what packages you need for a project is crucial. We will not be reminding you which packages you need for each question and for the assignment in general. Please import the packages at your own discretion. Although it is common practice to import all packages at once at the beginning, don't hesitate to revisit the next cell, and import more packages as you may need. "
   ]
  },
  {
   "cell_type": "code",
   "execution_count": 36,
   "metadata": {},
   "outputs": [],
   "source": [
    "# Implement kNN by hand. It might be useful to store all distances in one array/list\n",
    "import pandas as pd\n",
    "import numpy as np\n",
    "import matplotlib.pyplot as plt\n",
    "import math\n",
    "import operator\n",
    "\n",
    "from sklearn.datasets import load_iris\n",
    "from sklearn.utils import shuffle"
   ]
  },
  {
   "cell_type": "markdown",
   "metadata": {},
   "source": [
    "### 2. Load the Iris dataset"
   ]
  },
  {
   "cell_type": "code",
   "execution_count": 37,
   "metadata": {
    "scrolled": true
   },
   "outputs": [],
   "source": [
    "# loading dataset\n",
    "iris = load_iris()\n",
    "iris_df = pd.DataFrame(data= np.c_[iris['data'], iris['target']],\n",
    "                     columns= iris['feature_names'] + ['target'])\n",
    "\n",
    "# Preview dataset\n",
    "iris_df.to_csv('./iris.csv')"
   ]
  },
  {
   "cell_type": "markdown",
   "metadata": {},
   "source": [
    "###### In order to evaluate the performance of our kNN implementation, we first split the dataset into training and test sets. A 70/30 split or something similar should suffice. Remember class balance within both train/test sets is important."
   ]
  },
  {
   "cell_type": "code",
   "execution_count": 74,
   "metadata": {},
   "outputs": [],
   "source": [
    "### YOUR CODE HERE - Shuffle dataset, then split for balanced classes\n",
    "iris_df=shuffle(iris_df)\n",
    "iris_train,iris_test=np.split(iris_df, [int(.70*len(iris_df))])\n",
    "#iris_train,'\\n', iris_test"
   ]
  },
  {
   "cell_type": "markdown",
   "metadata": {},
   "source": [
    "### 3. Defining a distance metric\n",
    "\n",
    "###### To define similarity between two given points, we must define a distance metric. Write a method that takes  two points as input and returns the distance between the points. Look at the format of each point in the sample case below."
   ]
  },
  {
   "cell_type": "code",
   "execution_count": 75,
   "metadata": {},
   "outputs": [],
   "source": [
    "### YOUR CODE HERE - Write method that returns Euclidean distance between two points, last element in point array is class \n",
    "\n",
    "def getDistance(p1, p2):\n",
    "    \"\"\" \n",
    "    p1:  a numpy array, last element of the array is the class of the point\n",
    "    p2:  a numpy array, last element of the array is the class of the point\n",
    "    Calculates the Euclidean distance between two points. Returns dist float\n",
    "    \"\"\"\n",
    "    sum=np.array([(p2[i]-p1[i])**2 for i in range(len(p1)-1)]).sum()\n",
    "    return pow(sum,0.5)"
   ]
  },
  {
   "cell_type": "markdown",
   "metadata": {},
   "source": [
    "######  Let's test our newly written method on the following samples."
   ]
  },
  {
   "cell_type": "code",
   "execution_count": 76,
   "metadata": {},
   "outputs": [
    {
     "name": "stdout",
     "output_type": "stream",
     "text": [
      "3.4641016151377544\n"
     ]
    }
   ],
   "source": [
    "data1 = [2, 2, 2, 'a']\n",
    "data2 = [4, 4, 4, 'b']\n",
    "distance = getDistance(data1, data2)\n",
    "\n",
    "print(distance)"
   ]
  },
  {
   "cell_type": "markdown",
   "metadata": {},
   "source": [
    "### 4. Finding k nearest neighbours\n",
    "\n",
    "###### Now that we've defined a distance metric, we can use it collect the k most similar instances for a new test instance. Write a method calculating the distance between a test point and all training instances, selecting a subset with the smallest distance values. It might be useful to store all the distances in a list/array, since Python has a built-in sorting function."
   ]
  },
  {
   "cell_type": "code",
   "execution_count": 77,
   "metadata": {},
   "outputs": [],
   "source": [
    "### YOUR CODE HERE - Write method calculating the distance for all instances, selecting a subset with the smallest distance values.\n",
    "def sort_list(list1, list2): \n",
    "    return [x for _, x in sorted(zip(list2,list1), key=lambda pair: pair[0])] \n",
    "def getNeighbours(trainingSet, sample, k):\n",
    "    \"\"\"\n",
    "    trainingSet: a list of points, where each point is a numpy array and the last element of the array is the class of the point\n",
    "    sample: a numpy array, last element of the array is the class of the point\n",
    "    k: positive integer \n",
    "    \n",
    "    Calculates k nearest neighbours using a distance metric. \n",
    "    \n",
    "    Returns neighbours list\n",
    "    \"\"\"\n",
    "    distances=[]\n",
    "    for i in range(len(trainingSet)):\n",
    "        distances.append(getDistance(sample,trainingSet[i]))\n",
    "    points_sorted=sort_list(trainingSet,distances)\n",
    "    neighbors=points_sorted[0:k]\n",
    "    return neighbors"
   ]
  },
  {
   "cell_type": "markdown",
   "metadata": {},
   "source": [
    "######  Let's test our newly written method on the following samples."
   ]
  },
  {
   "cell_type": "code",
   "execution_count": 78,
   "metadata": {},
   "outputs": [
    {
     "name": "stdout",
     "output_type": "stream",
     "text": [
      "[[4, 4, 4, 'b']]\n"
     ]
    }
   ],
   "source": [
    "trainSet = [[2, 2, 2, 'a'], [4, 4, 4, 'b'],[6,6,6,'a']]\n",
    "testInstance = [5, 5, 5]\n",
    "\n",
    "neighbors = getNeighbours(trainSet, testInstance, 1)\n",
    "print(neighbors)"
   ]
  },
  {
   "cell_type": "code",
   "execution_count": 79,
   "metadata": {},
   "outputs": [
    {
     "data": {
      "text/plain": [
       "array([['a', 'b'],\n",
       "       ['2', '1']], dtype='<U21')"
      ]
     },
     "execution_count": 79,
     "metadata": {},
     "output_type": "execute_result"
    }
   ],
   "source": [
    "unique, counts = np.unique(np.array(trainSet)[:,len(trainSet[0])-1], return_counts=True)\n",
    "np.array([unique,counts])"
   ]
  },
  {
   "cell_type": "markdown",
   "metadata": {},
   "source": [
    "###### Now to build a prediction model, write a method that returns a prediction given k nearest neighbours from the previous method. (Hint: one way you can do this is to build a dictionary, and sort the key-value pairs to determine which class occurs the most often!)"
   ]
  },
  {
   "cell_type": "code",
   "execution_count": 80,
   "metadata": {},
   "outputs": [],
   "source": [
    "### YOUR CODE HERE - Write method that takes in k nearest neighbours as input, and votes based on the majority class.\n",
    "\n",
    "def predict(neighbours):\n",
    "    \"\"\" \n",
    "    neighbours: a list of points, where each point is a numpy array and the last element of the array is the class of the point\n",
    "    \n",
    "    Returns predicted class response in string format based off majority vote from k neighbours set \n",
    "    \"\"\"\n",
    "    unique,counts=np.unique(np.array(neighbours)[:,len(neighbours[0])-1],return_counts=True)\n",
    "    return sort_list(unique,counts)[len(unique)-1]"
   ]
  },
  {
   "cell_type": "markdown",
   "metadata": {},
   "source": [
    "###### Test your method on the following samples"
   ]
  },
  {
   "cell_type": "code",
   "execution_count": 81,
   "metadata": {},
   "outputs": [
    {
     "name": "stdout",
     "output_type": "stream",
     "text": [
      "3\n"
     ]
    }
   ],
   "source": [
    "neighbors = np.array([[1,1,1,1], [2,2,2,3], [3,3,3,2]])\n",
    "response = predict(neighbors)\n",
    "print(response)"
   ]
  },
  {
   "cell_type": "markdown",
   "metadata": {},
   "source": [
    "### Measuring Model Performance\n",
    "\n",
    "######  We're basically ready to test the performance of our very own k-NN implementation! One popular classification metric is accuracy, use the following method to check how well our k-NN algorithm performs on the test set we left aside."
   ]
  },
  {
   "cell_type": "code",
   "execution_count": 82,
   "metadata": {},
   "outputs": [],
   "source": [
    "def getAccuracy(testSet, predictions):\n",
    "    correct = 0\n",
    "    for x in range(len(testSet)):\n",
    "        #print(testSet[x],'\\n',predictions[x])\n",
    "        if (testSet[x][-1] == predictions[x]):\n",
    "            correct += 1\n",
    "    return (correct/float(len(testSet))) * 100.0"
   ]
  },
  {
   "cell_type": "markdown",
   "metadata": {},
   "source": [
    "##### Test the method on the following samples."
   ]
  },
  {
   "cell_type": "code",
   "execution_count": 83,
   "metadata": {},
   "outputs": [
    {
     "name": "stdout",
     "output_type": "stream",
     "text": [
      "66.66666666666666\n"
     ]
    }
   ],
   "source": [
    "testSet = [[1,1,1,'1'], [2,2,2,'1'], [3,3,3,'2']]\n",
    "predictions_t = ['1', '1', '1']\n",
    "accuracy = getAccuracy(testSet, predictions_t)\n",
    "print(accuracy)"
   ]
  },
  {
   "cell_type": "code",
   "execution_count": 84,
   "metadata": {},
   "outputs": [
    {
     "data": {
      "text/plain": [
       "2.0"
      ]
     },
     "execution_count": 84,
     "metadata": {},
     "output_type": "execute_result"
    }
   ],
   "source": [
    "arr_test=iris_test.to_numpy()\n",
    "arr_train=iris_train.to_numpy()\n",
    "predict(getNeighbours(arr_train,arr_test[5],4))"
   ]
  },
  {
   "cell_type": "code",
   "execution_count": 85,
   "metadata": {},
   "outputs": [
    {
     "name": "stdout",
     "output_type": "stream",
     "text": [
      "2.0\n"
     ]
    }
   ],
   "source": [
    "nei=getNeighbours(arr_train,arr_test[5],4)\n",
    "#print(len(nei))\n",
    "#pred.append(predict(nei))\n",
    "res=predict(nei)\n",
    "#print(pred)\n",
    "print(res)"
   ]
  },
  {
   "cell_type": "code",
   "execution_count": 86,
   "metadata": {},
   "outputs": [
    {
     "name": "stdout",
     "output_type": "stream",
     "text": [
      "2.0\n",
      "1.0\n",
      "1.0\n",
      "2.0\n",
      "0.0\n",
      "2.0\n",
      "0.0\n",
      "1.0\n",
      "1.0\n",
      "0.0\n",
      "2.0\n",
      "1.0\n",
      "1.0\n",
      "2.0\n",
      "2.0\n",
      "1.0\n",
      "2.0\n",
      "0.0\n",
      "1.0\n",
      "2.0\n",
      "1.0\n",
      "0.0\n",
      "1.0\n",
      "2.0\n",
      "1.0\n",
      "2.0\n",
      "0.0\n",
      "2.0\n",
      "2.0\n",
      "2.0\n",
      "1.0\n",
      "0.0\n",
      "0.0\n",
      "1.0\n",
      "2.0\n",
      "2.0\n",
      "2.0\n",
      "0.0\n",
      "2.0\n",
      "1.0\n",
      "1.0\n",
      "0.0\n",
      "0.0\n",
      "0.0\n",
      "1.0\n"
     ]
    }
   ],
   "source": [
    "pred=[]\n",
    "for i in range(len(arr_test)):\n",
    "    nei=getNeighbours(arr_train,arr_test[i],1)\n",
    "    #print(len(nei))\n",
    "    #pred.append(predict(nei))\n",
    "    res=predict(nei)\n",
    "    #print(pred)\n",
    "    print(res)"
   ]
  },
  {
   "cell_type": "markdown",
   "metadata": {},
   "source": [
    "######  Make predictions on the test set for different values of k. Compare the accuracy for different values and plot test performance, explaining why you think performance increases or decreases for different values of k (WRITE ANSWER IN BOX BELOW PLOT). Loop from k=1 to k=49 (inclusively), only considering cases where k is odd."
   ]
  },
  {
   "cell_type": "code",
   "execution_count": 87,
   "metadata": {},
   "outputs": [],
   "source": [
    "### YOUR CODE HERE - Create a dictionary to store accuracies for different values of k.\n",
    "acc_dic=dict({})\n",
    "arr_test=iris_test.to_numpy()\n",
    "arr_train=iris_train.to_numpy()\n",
    "for k in range(1,51,2):\n",
    "    pred=[]\n",
    "    for i in range(len(arr_test)):\n",
    "        nei=getNeighbours(arr_train,arr_test[i],k)\n",
    "        #print(len(nei))\n",
    "        pred.append(predict(nei))\n",
    "    #print(pred)\n",
    "    acc_dic[k]=getAccuracy(arr_test,pred)\n",
    "#print(acc_dic)"
   ]
  },
  {
   "cell_type": "code",
   "execution_count": 88,
   "metadata": {},
   "outputs": [
    {
     "data": {
      "text/plain": [
       "{1: 91.11111111111111,\n",
       " 3: 93.33333333333333,\n",
       " 5: 93.33333333333333,\n",
       " 7: 95.55555555555556,\n",
       " 9: 97.77777777777777,\n",
       " 11: 95.55555555555556,\n",
       " 13: 97.77777777777777,\n",
       " 15: 97.77777777777777,\n",
       " 17: 93.33333333333333,\n",
       " 19: 95.55555555555556,\n",
       " 21: 93.33333333333333,\n",
       " 23: 93.33333333333333,\n",
       " 25: 93.33333333333333,\n",
       " 27: 93.33333333333333,\n",
       " 29: 93.33333333333333,\n",
       " 31: 93.33333333333333,\n",
       " 33: 95.55555555555556,\n",
       " 35: 93.33333333333333,\n",
       " 37: 91.11111111111111,\n",
       " 39: 91.11111111111111,\n",
       " 41: 86.66666666666667,\n",
       " 43: 88.88888888888889,\n",
       " 45: 88.88888888888889,\n",
       " 47: 88.88888888888889,\n",
       " 49: 86.66666666666667}"
      ]
     },
     "execution_count": 88,
     "metadata": {},
     "output_type": "execute_result"
    }
   ],
   "source": [
    "acc_dic"
   ]
  },
  {
   "cell_type": "markdown",
   "metadata": {},
   "source": [
    "##### Plot a bar chart, having the different values of k on the x-axis and the test accuracy (in %) on the y-axis. Add a plot title, and choose a suitable format for readability."
   ]
  },
  {
   "cell_type": "code",
   "execution_count": 89,
   "metadata": {},
   "outputs": [
    {
     "data": {
      "text/plain": [
       "<BarContainer object of 25 artists>"
      ]
     },
     "execution_count": 89,
     "metadata": {},
     "output_type": "execute_result"
    },
    {
     "data": {
      "image/png": "[encoded data removed]",
      "text/plain": [
       "<Figure size 432x288 with 1 Axes>"
      ]
     },
     "metadata": {
      "needs_background": "light"
     },
     "output_type": "display_data"
    }
   ],
   "source": [
    "### YOUR CODE HERE - Create a bar plot\n",
    "plt.bar(acc_dic.keys(),acc_dic.values())"
   ]
  },
  {
   "cell_type": "markdown",
   "metadata": {},
   "source": [
    "### <span style=\"background-color: #F9F2EB\"> YOUR EXPLANATION HERE...  </span>\n",
    "*(Hint: think of the bias-variance trade-off/ AND underfitting/overfitting)*\n",
    "The accuracy is very high at the beginning since the points that are in the same class tend to be close to each other (sometimes, because when I run the program again which I did, the accuracies were different since the test-train split was different, and that's the reason why the graph doesn't correspond to the description. )\n",
    "then the accuracy goes down to 91.1%, surely due to variance and/or underfititng. The accuracy then increases to reach 93.3% at k=27 which may be the best generalized values of K. Finally the accuracy goes down due to overfitting. "
   ]
  },
  {
   "cell_type": "markdown",
   "metadata": {},
   "source": [
    "###  Classification Algorithm Comparison\n",
    "\n",
    "Now that we've learned about a couple of classification algorithms, you must be wondering: which algorithm should I choose for a given task? In the following question, we'll learn to investigate model performance for various algorithms and then based off the best algorithm, do some hyperparameter tuning."
   ]
  },
  {
   "cell_type": "markdown",
   "metadata": {},
   "source": [
    "###### 1) Import necessary packages from sklearn.\n",
    "\n",
    "Here are a few popular classification algorithms available from the sklearn API. If you're curious on what supervised learning algorithms are available, don't hesitate to read up on documentation: https://scikit-learn.org/stable/supervised_learning.html (this might be useful brainstorming for your hackathon idea!)"
   ]
  },
  {
   "cell_type": "code",
   "execution_count": 91,
   "metadata": {},
   "outputs": [],
   "source": [
    "from sklearn import model_selection\n",
    "from sklearn.linear_model import LogisticRegression\n",
    "from sklearn.tree import DecisionTreeClassifier\n",
    "from sklearn.ensemble import RandomForestClassifier\n",
    "from sklearn.neighbors import KNeighborsClassifier\n",
    "from sklearn.svm import SVC\n",
    "from sklearn.discriminant_analysis import LinearDiscriminantAnalysis\n",
    "from sklearn.naive_bayes import GaussianNB"
   ]
  },
  {
   "cell_type": "markdown",
   "metadata": {},
   "source": [
    "###### 2) Load the Pima Indians Diabetes Dataset using pandas.\n",
    "\n",
    "Just another way of downloading a CSV file from online! Let's inspect the dataset we're working with, the Pima Indians Diabetes Dataset.\n",
    "\n",
    "\" This dataset is originally from the National Institute of Diabetes and Digestive and Kidney Diseases. The objective of the dataset is to diagnostically predict whether or not a patient has diabetes, based on certain diagnostic measurements included in the dataset. Several constraints were placed on the selection of these instances from a larger database. In particular, all patients here are females at least 21 years old of Pima Indian heritage. \" - Kaggle"
   ]
  },
  {
   "cell_type": "code",
   "execution_count": 92,
   "metadata": {},
   "outputs": [
    {
     "data": {
      "text/html": [
       "<div>\n",
       "<style scoped>\n",
       "    .dataframe tbody tr th:only-of-type {\n",
       "        vertical-align: middle;\n",
       "    }\n",
       "\n",
       "    .dataframe tbody tr th {\n",
       "        vertical-align: top;\n",
       "    }\n",
       "\n",
       "    .dataframe thead th {\n",
       "        text-align: right;\n",
       "    }\n",
       "</style>\n",
       "<table border=\"1\" class=\"dataframe\">\n",
       "  <thead>\n",
       "    <tr style=\"text-align: right;\">\n",
       "      <th></th>\n",
       "      <th>preg</th>\n",
       "      <th>plas</th>\n",
       "      <th>pres</th>\n",
       "      <th>skin</th>\n",
       "      <th>test</th>\n",
       "      <th>mass</th>\n",
       "      <th>pedi</th>\n",
       "      <th>age</th>\n",
       "      <th>class</th>\n",
       "    </tr>\n",
       "  </thead>\n",
       "  <tbody>\n",
       "    <tr>\n",
       "      <th>0</th>\n",
       "      <td>6</td>\n",
       "      <td>148</td>\n",
       "      <td>72</td>\n",
       "      <td>35</td>\n",
       "      <td>0</td>\n",
       "      <td>33.6</td>\n",
       "      <td>0.627</td>\n",
       "      <td>50</td>\n",
       "      <td>1</td>\n",
       "    </tr>\n",
       "    <tr>\n",
       "      <th>1</th>\n",
       "      <td>1</td>\n",
       "      <td>85</td>\n",
       "      <td>66</td>\n",
       "      <td>29</td>\n",
       "      <td>0</td>\n",
       "      <td>26.6</td>\n",
       "      <td>0.351</td>\n",
       "      <td>31</td>\n",
       "      <td>0</td>\n",
       "    </tr>\n",
       "    <tr>\n",
       "      <th>2</th>\n",
       "      <td>8</td>\n",
       "      <td>183</td>\n",
       "      <td>64</td>\n",
       "      <td>0</td>\n",
       "      <td>0</td>\n",
       "      <td>23.3</td>\n",
       "      <td>0.672</td>\n",
       "      <td>32</td>\n",
       "      <td>1</td>\n",
       "    </tr>\n",
       "    <tr>\n",
       "      <th>3</th>\n",
       "      <td>1</td>\n",
       "      <td>89</td>\n",
       "      <td>66</td>\n",
       "      <td>23</td>\n",
       "      <td>94</td>\n",
       "      <td>28.1</td>\n",
       "      <td>0.167</td>\n",
       "      <td>21</td>\n",
       "      <td>0</td>\n",
       "    </tr>\n",
       "    <tr>\n",
       "      <th>4</th>\n",
       "      <td>0</td>\n",
       "      <td>137</td>\n",
       "      <td>40</td>\n",
       "      <td>35</td>\n",
       "      <td>168</td>\n",
       "      <td>43.1</td>\n",
       "      <td>2.288</td>\n",
       "      <td>33</td>\n",
       "      <td>1</td>\n",
       "    </tr>\n",
       "  </tbody>\n",
       "</table>\n",
       "</div>"
      ],
      "text/plain": [
       "   preg  plas  pres  skin  test  mass   pedi  age  class\n",
       "0     6   148    72    35     0  33.6  0.627   50      1\n",
       "1     1    85    66    29     0  26.6  0.351   31      0\n",
       "2     8   183    64     0     0  23.3  0.672   32      1\n",
       "3     1    89    66    23    94  28.1  0.167   21      0\n",
       "4     0   137    40    35   168  43.1  2.288   33      1"
      ]
     },
     "execution_count": 92,
     "metadata": {},
     "output_type": "execute_result"
    }
   ],
   "source": [
    "# load dataset\n",
    "\n",
    "url = \"https://raw.githubusercontent.com/jbrownlee/Datasets/master/pima-indians-diabetes.data.csv\"\n",
    "names = ['preg', 'plas', 'pres', 'skin', 'test', 'mass', 'pedi', 'age', 'class']\n",
    "\n",
    "df = pd.read_csv(url, names=names)  # names parameter is simply used to name the columns, defaults to None if unspecified\n",
    "\n",
    "df.head()"
   ]
  },
  {
   "cell_type": "markdown",
   "metadata": {},
   "source": [
    "###### 3) Take the values of the DataFrame as a numpy array, then separate the features and target variable columns into X, y respectively.\n",
    "\n",
    "We don't directly split up the train/test splits, because we'll be using the sklearn k cross-fold validation implementation, which takes in the entire dataset as an argument.\n"
   ]
  },
  {
   "cell_type": "code",
   "execution_count": 93,
   "metadata": {},
   "outputs": [
    {
     "name": "stdout",
     "output_type": "stream",
     "text": [
      "(768, 9)\n"
     ]
    }
   ],
   "source": [
    "array = df.values\n",
    "print(array.shape)\n",
    "\n",
    "X = array[:,0:8]  # Take first 8 columns as features\n",
    "y = array[:,8]  # Take last column as the target variable"
   ]
  },
  {
   "cell_type": "markdown",
   "metadata": {},
   "source": [
    "Note that we're going to fix the random seed in the data partitioning step of k cross-fold validation, for the simple reason of wanting to minimize performance differences to be due to different data partitions seen by each algorithm. Hence, adding this seed will cause every algorithm to see the same shuffled data."
   ]
  },
  {
   "cell_type": "code",
   "execution_count": 94,
   "metadata": {},
   "outputs": [],
   "source": [
    "# Fix random seed in data partitions\n",
    "seed = 7\n",
    "\n",
    "# Prepare models\n",
    "models = []\n",
    "models.append(('LR', LogisticRegression(solver='lbfgs', max_iter=500)))\n",
    "models.append(('LDA', LinearDiscriminantAnalysis()))\n",
    "models.append(('KNN', KNeighborsClassifier()))\n",
    "models.append(('CART', DecisionTreeClassifier()))\n",
    "models.append(('RF', RandomForestClassifier(n_estimators=100)))\n",
    "models.append(('NB', GaussianNB()))\n",
    "models.append(('SVM', SVC(gamma='auto')))"
   ]
  },
  {
   "cell_type": "markdown",
   "metadata": {},
   "source": [
    "###### 4) Now, we evaluate each model individually and store cross-validation results for preliminary comparison. Note that we haven't done any hyperparameter tuning as we have for our k-NN implementation previously."
   ]
  },
  {
   "cell_type": "code",
   "execution_count": 95,
   "metadata": {},
   "outputs": [
    {
     "name": "stdout",
     "output_type": "stream",
     "text": [
      "LR: 0.7760423786739576 (0.051575452620868226)\n",
      "LDA: 0.773462064251538 (0.05159180390446138)\n",
      "KNN: 0.7265550239234451 (0.06182131406705549)\n",
      "CART: 0.6965481886534517 (0.06526022126839198)\n",
      "RF: 0.7681989063568012 (0.052655832464710034)\n",
      "NB: 0.7551777170198223 (0.04276593954064409)\n",
      "SVM: 0.6510252904989747 (0.07214083485055327)\n"
     ]
    }
   ],
   "source": [
    "# Evaluate each model individually\n",
    "\n",
    "results = []\n",
    "names = []\n",
    "scoring = 'accuracy'\n",
    "\n",
    "for name, model in models:\n",
    "    \n",
    "    kfold = model_selection.KFold(n_splits=10, random_state=seed)  # Provides train/test indices to split data in train/test sets.\n",
    "    cv_results = model_selection.cross_val_score(model, X, y, cv=kfold, scoring=scoring)  \n",
    "    results.append(cv_results)\n",
    "    names.append(name)\n",
    "    msg = \"{}: {} ({})\".format(name, cv_results.mean(), cv_results.std())  # Provides the mean accuracy, std dev for results\n",
    "    print(msg)\n"
   ]
  },
  {
   "cell_type": "markdown",
   "metadata": {},
   "source": [
    "###### 5) Use a boxplot to show results\n",
    "\n",
    "In both academia/research and industry, graphs are necessary to simply display results and convey messages more clearly. Below, we show a boxplot, where each horizontal line represents the median result obtained, the T-shaped ends show the highest and lowest results. The box simply contains where \"most\" the results lie."
   ]
  },
  {
   "cell_type": "code",
   "execution_count": 96,
   "metadata": {},
   "outputs": [
    {
     "data": {
      "image/png": "[encoded data removed]",
      "text/plain": [
       "<Figure size 432x288 with 1 Axes>"
      ]
     },
     "metadata": {
      "needs_background": "light"
     },
     "output_type": "display_data"
    }
   ],
   "source": [
    "# boxplot algorithm comparison\n",
    "fig = plt.figure()\n",
    "fig.suptitle('Algorithm Comparison')\n",
    "ax = fig.add_subplot(111)\n",
    "plt.boxplot(results)\n",
    "ax.set_xticklabels(names)\n",
    "plt.show()"
   ]
  },
  {
   "cell_type": "markdown",
   "metadata": {},
   "source": [
    "### Now, it's your turn!\n",
    "\n",
    "After doing some preliminary comparison between a few classification algorithms, you can now select a few and do some hyperparameter tuning. For example, random forests did fairly well, and we haven't even tuned any of its hyperparameters (e.g. max tree depth, number of trees, etc.) To find optimal hyperparameters, it's common to perform a **grid search** over a parameter space. Essentially, you want to specify a range of values for different hyperparameters within an algorithm, and try out every combination of parameters that are evaluated on a test set left aside (Do you see the recurring theme of leaving data aside?). Typically, you'd select the hyperparameter values that worked best on your test set. \n",
    "\n",
    "Sklearn has an API for just that, which takes in a **model**, and a **dictionary of parameters** to search over: [scikit-learn docs](https://scikit-learn.org/stable/modules/grid_search.html#grid-search) . Follow the example [here](https://scikit-learn.org/stable/auto_examples/model_selection/plot_grid_search_digits.html#sphx-glr-auto-examples-model-selection-plot-grid-search-digits-py) to see how to use the API:\n",
    "- Select an algorithm of your choice from the sklearn classification models (Random Forests is a nice one though)\n",
    "- Used the **GridSearchCV** module to find optimal hyperparameters for your model (pick 2-3 parameters to search over!)\n",
    "- Use classification report to show model performance\n",
    "- Let us know if you have any cool results to show!"
   ]
  },
  {
   "cell_type": "code",
   "execution_count": 102,
   "metadata": {},
   "outputs": [
    {
     "name": "stdout",
     "output_type": "stream",
     "text": [
      "Best parameters set found on development set:\n",
      "\n",
      "{'bootstrap': True, 'max_depth': 50, 'n_estimators': 100}\n",
      "\n",
      "Grid scores on development set:\n",
      "\n",
      "0.745 (+/-0.084) for {'bootstrap': True, 'max_depth': None, 'n_estimators': 1}\n",
      "0.784 (+/-0.061) for {'bootstrap': True, 'max_depth': None, 'n_estimators': 10}\n",
      "0.771 (+/-0.049) for {'bootstrap': True, 'max_depth': None, 'n_estimators': 100}\n",
      "0.794 (+/-0.062) for {'bootstrap': True, 'max_depth': None, 'n_estimators': 1000}\n",
      "0.690 (+/-0.089) for {'bootstrap': True, 'max_depth': 10, 'n_estimators': 1}\n",
      "0.773 (+/-0.076) for {'bootstrap': True, 'max_depth': 10, 'n_estimators': 10}\n",
      "0.797 (+/-0.061) for {'bootstrap': True, 'max_depth': 10, 'n_estimators': 100}\n",
      "0.802 (+/-0.078) for {'bootstrap': True, 'max_depth': 10, 'n_estimators': 1000}\n",
      "0.727 (+/-0.109) for {'bootstrap': True, 'max_depth': 20, 'n_estimators': 1}\n",
      "0.786 (+/-0.081) for {'bootstrap': True, 'max_depth': 20, 'n_estimators': 10}\n",
      "0.794 (+/-0.071) for {'bootstrap': True, 'max_depth': 20, 'n_estimators': 100}\n",
      "0.789 (+/-0.081) for {'bootstrap': True, 'max_depth': 20, 'n_estimators': 1000}\n",
      "0.711 (+/-0.050) for {'bootstrap': True, 'max_depth': 30, 'n_estimators': 1}\n",
      "0.781 (+/-0.069) for {'bootstrap': True, 'max_depth': 30, 'n_estimators': 10}\n",
      "0.784 (+/-0.048) for {'bootstrap': True, 'max_depth': 30, 'n_estimators': 100}\n",
      "0.792 (+/-0.074) for {'bootstrap': True, 'max_depth': 30, 'n_estimators': 1000}\n",
      "0.742 (+/-0.096) for {'bootstrap': True, 'max_depth': 40, 'n_estimators': 1}\n",
      "0.773 (+/-0.046) for {'bootstrap': True, 'max_depth': 40, 'n_estimators': 10}\n",
      "0.789 (+/-0.058) for {'bootstrap': True, 'max_depth': 40, 'n_estimators': 100}\n",
      "0.802 (+/-0.071) for {'bootstrap': True, 'max_depth': 40, 'n_estimators': 1000}\n",
      "0.732 (+/-0.031) for {'bootstrap': True, 'max_depth': 50, 'n_estimators': 1}\n",
      "0.797 (+/-0.059) for {'bootstrap': True, 'max_depth': 50, 'n_estimators': 10}\n",
      "0.805 (+/-0.060) for {'bootstrap': True, 'max_depth': 50, 'n_estimators': 100}\n",
      "0.792 (+/-0.066) for {'bootstrap': True, 'max_depth': 50, 'n_estimators': 1000}\n",
      "0.680 (+/-0.097) for {'bootstrap': True, 'max_depth': 60, 'n_estimators': 1}\n",
      "0.779 (+/-0.045) for {'bootstrap': True, 'max_depth': 60, 'n_estimators': 10}\n",
      "0.805 (+/-0.054) for {'bootstrap': True, 'max_depth': 60, 'n_estimators': 100}\n",
      "0.794 (+/-0.055) for {'bootstrap': True, 'max_depth': 60, 'n_estimators': 1000}\n",
      "0.714 (+/-0.128) for {'bootstrap': True, 'max_depth': 70, 'n_estimators': 1}\n",
      "0.776 (+/-0.024) for {'bootstrap': True, 'max_depth': 70, 'n_estimators': 10}\n",
      "0.805 (+/-0.070) for {'bootstrap': True, 'max_depth': 70, 'n_estimators': 100}\n",
      "0.794 (+/-0.069) for {'bootstrap': True, 'max_depth': 70, 'n_estimators': 1000}\n",
      "0.703 (+/-0.080) for {'bootstrap': True, 'max_depth': 80, 'n_estimators': 1}\n",
      "0.797 (+/-0.050) for {'bootstrap': True, 'max_depth': 80, 'n_estimators': 10}\n",
      "0.781 (+/-0.056) for {'bootstrap': True, 'max_depth': 80, 'n_estimators': 100}\n",
      "0.792 (+/-0.066) for {'bootstrap': True, 'max_depth': 80, 'n_estimators': 1000}\n",
      "0.706 (+/-0.038) for {'bootstrap': True, 'max_depth': 90, 'n_estimators': 1}\n",
      "0.784 (+/-0.050) for {'bootstrap': True, 'max_depth': 90, 'n_estimators': 10}\n",
      "0.776 (+/-0.055) for {'bootstrap': True, 'max_depth': 90, 'n_estimators': 100}\n",
      "0.794 (+/-0.076) for {'bootstrap': True, 'max_depth': 90, 'n_estimators': 1000}\n",
      "0.742 (+/-0.085) for {'bootstrap': True, 'max_depth': 100, 'n_estimators': 1}\n",
      "0.794 (+/-0.051) for {'bootstrap': True, 'max_depth': 100, 'n_estimators': 10}\n",
      "0.792 (+/-0.054) for {'bootstrap': True, 'max_depth': 100, 'n_estimators': 100}\n",
      "0.794 (+/-0.062) for {'bootstrap': True, 'max_depth': 100, 'n_estimators': 1000}\n",
      "0.708 (+/-0.061) for {'bootstrap': False, 'max_depth': None, 'n_estimators': 1}\n",
      "0.789 (+/-0.081) for {'bootstrap': False, 'max_depth': None, 'n_estimators': 10}\n",
      "0.797 (+/-0.057) for {'bootstrap': False, 'max_depth': None, 'n_estimators': 100}\n",
      "0.792 (+/-0.089) for {'bootstrap': False, 'max_depth': None, 'n_estimators': 1000}\n",
      "0.742 (+/-0.044) for {'bootstrap': False, 'max_depth': 10, 'n_estimators': 1}\n",
      "0.786 (+/-0.067) for {'bootstrap': False, 'max_depth': 10, 'n_estimators': 10}\n",
      "0.773 (+/-0.107) for {'bootstrap': False, 'max_depth': 10, 'n_estimators': 100}\n",
      "0.776 (+/-0.072) for {'bootstrap': False, 'max_depth': 10, 'n_estimators': 1000}\n",
      "0.745 (+/-0.075) for {'bootstrap': False, 'max_depth': 20, 'n_estimators': 1}\n",
      "0.753 (+/-0.088) for {'bootstrap': False, 'max_depth': 20, 'n_estimators': 10}\n",
      "0.789 (+/-0.090) for {'bootstrap': False, 'max_depth': 20, 'n_estimators': 100}\n",
      "0.794 (+/-0.080) for {'bootstrap': False, 'max_depth': 20, 'n_estimators': 1000}\n",
      "0.706 (+/-0.038) for {'bootstrap': False, 'max_depth': 30, 'n_estimators': 1}\n",
      "0.776 (+/-0.047) for {'bootstrap': False, 'max_depth': 30, 'n_estimators': 10}\n",
      "0.794 (+/-0.064) for {'bootstrap': False, 'max_depth': 30, 'n_estimators': 100}\n",
      "0.784 (+/-0.077) for {'bootstrap': False, 'max_depth': 30, 'n_estimators': 1000}\n",
      "0.729 (+/-0.080) for {'bootstrap': False, 'max_depth': 40, 'n_estimators': 1}\n",
      "0.768 (+/-0.100) for {'bootstrap': False, 'max_depth': 40, 'n_estimators': 10}\n",
      "0.789 (+/-0.086) for {'bootstrap': False, 'max_depth': 40, 'n_estimators': 100}\n",
      "0.786 (+/-0.085) for {'bootstrap': False, 'max_depth': 40, 'n_estimators': 1000}\n",
      "0.758 (+/-0.061) for {'bootstrap': False, 'max_depth': 50, 'n_estimators': 1}\n",
      "0.789 (+/-0.054) for {'bootstrap': False, 'max_depth': 50, 'n_estimators': 10}\n",
      "0.789 (+/-0.070) for {'bootstrap': False, 'max_depth': 50, 'n_estimators': 100}\n",
      "0.794 (+/-0.085) for {'bootstrap': False, 'max_depth': 50, 'n_estimators': 1000}\n",
      "0.763 (+/-0.068) for {'bootstrap': False, 'max_depth': 60, 'n_estimators': 1}\n",
      "0.773 (+/-0.058) for {'bootstrap': False, 'max_depth': 60, 'n_estimators': 10}\n",
      "0.789 (+/-0.086) for {'bootstrap': False, 'max_depth': 60, 'n_estimators': 100}\n",
      "0.794 (+/-0.085) for {'bootstrap': False, 'max_depth': 60, 'n_estimators': 1000}\n",
      "0.716 (+/-0.101) for {'bootstrap': False, 'max_depth': 70, 'n_estimators': 1}\n",
      "0.758 (+/-0.034) for {'bootstrap': False, 'max_depth': 70, 'n_estimators': 10}\n",
      "0.786 (+/-0.074) for {'bootstrap': False, 'max_depth': 70, 'n_estimators': 100}\n",
      "0.789 (+/-0.083) for {'bootstrap': False, 'max_depth': 70, 'n_estimators': 1000}\n",
      "0.719 (+/-0.060) for {'bootstrap': False, 'max_depth': 80, 'n_estimators': 1}\n",
      "0.794 (+/-0.041) for {'bootstrap': False, 'max_depth': 80, 'n_estimators': 10}\n",
      "0.781 (+/-0.070) for {'bootstrap': False, 'max_depth': 80, 'n_estimators': 100}\n",
      "0.789 (+/-0.071) for {'bootstrap': False, 'max_depth': 80, 'n_estimators': 1000}\n",
      "0.716 (+/-0.075) for {'bootstrap': False, 'max_depth': 90, 'n_estimators': 1}\n",
      "0.805 (+/-0.035) for {'bootstrap': False, 'max_depth': 90, 'n_estimators': 10}\n",
      "0.789 (+/-0.073) for {'bootstrap': False, 'max_depth': 90, 'n_estimators': 100}\n",
      "0.786 (+/-0.092) for {'bootstrap': False, 'max_depth': 90, 'n_estimators': 1000}\n",
      "0.706 (+/-0.075) for {'bootstrap': False, 'max_depth': 100, 'n_estimators': 1}\n",
      "0.758 (+/-0.087) for {'bootstrap': False, 'max_depth': 100, 'n_estimators': 10}\n",
      "0.781 (+/-0.029) for {'bootstrap': False, 'max_depth': 100, 'n_estimators': 100}\n",
      "0.792 (+/-0.075) for {'bootstrap': False, 'max_depth': 100, 'n_estimators': 1000}\n",
      "\n",
      "              precision    recall  f1-score   support\n",
      "\n",
      "         0.0       0.71      0.86      0.78       237\n",
      "         1.0       0.67      0.44      0.53       147\n",
      "\n",
      "    accuracy                           0.70       384\n",
      "   macro avg       0.69      0.65      0.65       384\n",
      "weighted avg       0.69      0.70      0.68       384\n",
      "\n"
     ]
    },
    {
     "name": "stderr",
     "output_type": "stream",
     "text": [
      "c:\\program files\\python37\\lib\\site-packages\\sklearn\\model_selection\\_search.py:813: DeprecationWarning: The default of the `iid` parameter will change from True to False in version 0.22 and will be removed in 0.24. This will change numeric results when test-set sizes are unequal.\n",
      "  DeprecationWarning)\n"
     ]
    }
   ],
   "source": [
    "### YOUR CODE HERE - Find optimal hyperparameters for an algorithm of your choice\n",
    "from sklearn.model_selection import train_test_split\n",
    "from sklearn.model_selection import GridSearchCV\n",
    "from sklearn.metrics import classification_report\n",
    "model=RandomForestClassifier()\n",
    "tuned_parameters = {'n_estimators': [1,10,100,1000], \n",
    "                    'max_depth': [None, 10, 20, 30, 40, 50, 60, 70, 80, 90, 100],\n",
    "                    'bootstrap':[True,False]}\n",
    "### YOUR CODE HERE - Split the dataset in two equal parts\n",
    "X_train, X_test, y_train, y_test = train_test_split(X, y, test_size=0.5)\n",
    "### YOUR CODE HERE - Set the parameters by cross-validation\n",
    "clf=GridSearchCV(model, tuned_parameters, cv=5)\n",
    "clf.fit(X_train, y_train)\n",
    "\n",
    "print(\"Best parameters set found on development set:\")\n",
    "print()\n",
    "print(clf.best_params_)\n",
    "print()\n",
    "print(\"Grid scores on development set:\")\n",
    "print()\n",
    "means = clf.cv_results_['mean_test_score']\n",
    "stds = clf.cv_results_['std_test_score']\n",
    "for mean, std, params in zip(means, stds, clf.cv_results_['params']):\n",
    "    print(\"%0.3f (+/-%0.03f) for %r\"\n",
    "            % (mean, std * 2, params))\n",
    "print()\n",
    "#Test\n",
    "y_pred=clf.predict(X_test)\n",
    "print(classification_report(y_test, y_pred))"
   ]
  },
  {
   "cell_type": "code",
   "execution_count": null,
   "metadata": {},
   "outputs": [],
   "source": []
  },
  {
   "cell_type": "markdown",
   "metadata": {},
   "source": [
    "###### Now you're familiar with fundamental, but VERY important algorithm selection and evaluation techniques! Congrats :)"
   ]
  }
 ],
 "metadata": {
  "kernelspec": {
   "display_name": "Python 3",
   "language": "python",
   "name": "python3"
  },
  "language_info": {
   "codemirror_mode": {
    "name": "ipython",
    "version": 3
   },
   "file_extension": ".py",
   "mimetype": "text/x-python",
   "name": "python",
   "nbconvert_exporter": "python",
   "pygments_lexer": "ipython3",
   "version": "3.7.4"
  }
 },
 "nbformat": 4,
 "nbformat_minor": 2
}
