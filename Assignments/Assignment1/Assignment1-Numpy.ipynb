{
 "cells": [
  {
   "cell_type": "markdown",
   "metadata": {},
   "source": [
    "# TechX - Machine Learning Course \n",
    "\n",
    "## Assignment 1 - Python and NumPy"
   ]
  },
  {
   "cell_type": "markdown",
   "metadata": {},
   "source": [
    "This is an introductory assignment to the course. Two fundamental skills that every data scientist must have are math and python. Make sure that you are able to do all of the following questions. If you have trouble, please make sure to ask for help from either the ALs or the mentors. "
   ]
  },
  {
   "cell_type": "code",
   "execution_count": 2,
   "metadata": {},
   "outputs": [],
   "source": [
    "def test_function(function, test_cases, test_cases_answers):\n",
    "    \"\"\"Runs function through test cases\"\"\"\n",
    "    passed = True\n",
    "    \n",
    "    for (case, answer) in zip(test_cases, test_cases_answers):\n",
    "        output = function(case)\n",
    "        if output != answer: \n",
    "            print('Your output: ', output, '\\t Expected output: ', answer)\n",
    "            passed = False\n",
    "    \n",
    "    if passed: \n",
    "        print('Test passed.')\n",
    "    else: \n",
    "        print('Test failed.')"
   ]
  },
  {
   "cell_type": "markdown",
   "metadata": {},
   "source": [
    "## Functions"
   ]
  },
  {
   "cell_type": "markdown",
   "metadata": {},
   "source": [
    "###### 1) Write a function that calculates the average of an array in an iterative way"
   ]
  },
  {
   "cell_type": "code",
   "execution_count": 4,
   "metadata": {},
   "outputs": [],
   "source": [
    "def average(array):\n",
    "    \"\"\" Calculates the average of array. Returns average float\"\"\"\n",
    "    sum=0;\n",
    "    for item in array:\n",
    "        sum+=item;\n",
    "    return sum/len(array)\n",
    "    #=============== YOUR CODE HERE ==================="
   ]
  },
  {
   "cell_type": "markdown",
   "metadata": {},
   "source": [
    "Run the next cell to test your function."
   ]
  },
  {
   "cell_type": "code",
   "execution_count": 5,
   "metadata": {},
   "outputs": [
    {
     "name": "stdout",
     "output_type": "stream",
     "text": [
      "Test passed.\n"
     ]
    }
   ],
   "source": [
    "test_cases_average = [[1, 1, 1, 1, 1, 1, 1, 1, 1],\n",
    "              [1, 2, 3, 4, 5, 6, 7, 8, 9, 10],\n",
    "              [0.21780088, 0.4118428,  0.62573827, 0.78184048, 0.96162729, 0.21242742, 0.06843751, 0.70688805, 0.98459559, 0.1153083 ]]\n",
    "\n",
    "test_cases_answers_average = [1, 5.5, 0.508650659]\n",
    "\n",
    "test_function(average, test_cases_average, test_cases_answers_average)"
   ]
  },
  {
   "cell_type": "markdown",
   "metadata": {},
   "source": [
    "### Indexing, Slicing and Iterating"
   ]
  },
  {
   "cell_type": "markdown",
   "metadata": {},
   "source": [
    "###### 2) Extract the username of these emails. Beware, there may be different domains! You want to return the String before '@'.\n",
    "\n",
    "Example: <br>\n",
    "<b>input:</b> 'john.smith@qq.com' <br>\n",
    "<b>return:</b>'john.smith'\n",
    "\n",
    "<b>input:</b> 'jennifer@outlook.com' <br>\n",
    "<b>return:</b>'jennifer' "
   ]
  },
  {
   "cell_type": "code",
   "execution_count": 8,
   "metadata": {},
   "outputs": [],
   "source": [
    "def extract_username(email): \n",
    "    \"\"\"Extracts the username from the input email address. Return username String\"\"\"\n",
    "    username=email.split('@')[0]\n",
    "    return username\n",
    "    #=============== YOUR CODE HERE ==================="
   ]
  },
  {
   "cell_type": "markdown",
   "metadata": {},
   "source": [
    "Run the next cell to test your function."
   ]
  },
  {
   "cell_type": "code",
   "execution_count": 9,
   "metadata": {},
   "outputs": [
    {
     "name": "stdout",
     "output_type": "stream",
     "text": [
      "Test passed.\n"
     ]
    }
   ],
   "source": [
    "test_cases_extract_username = ['john-smith@gmail.com',\n",
    "              'this.is.the.username@abcdefghijklmnopqrstuvwxyz',\n",
    "              'invalid-email']\n",
    "\n",
    "test_cases_answers_extract_username = ['john-smith', 'this.is.the.username', 'invalid-email']\n",
    "\n",
    "test_function(extract_username, test_cases_extract_username, test_cases_answers_extract_username) "
   ]
  },
  {
   "cell_type": "markdown",
   "metadata": {},
   "source": [
    "<hr>"
   ]
  },
  {
   "cell_type": "markdown",
   "metadata": {},
   "source": [
    "### Complete the following questions using ONLY NumPy"
   ]
  },
  {
   "cell_type": "markdown",
   "metadata": {},
   "source": [
    "### Linear algebra operations "
   ]
  },
  {
   "cell_type": "markdown",
   "metadata": {},
   "source": [
    "###### 3) Import NumPy Library into your Python environment"
   ]
  },
  {
   "cell_type": "code",
   "execution_count": 2,
   "metadata": {},
   "outputs": [],
   "source": [
    "#=============== YOUR CODE HERE ===================\n",
    "import numpy as np"
   ]
  },
  {
   "cell_type": "markdown",
   "metadata": {},
   "source": [
    "###### 4) Create a 10 element vector, x, of random integers between 10 and 15 (inclusive).  "
   ]
  },
  {
   "cell_type": "code",
   "execution_count": 20,
   "metadata": {},
   "outputs": [
    {
     "name": "stdout",
     "output_type": "stream",
     "text": [
      "[14 10 12 13 12 14 10 10 11 13]\n",
      "14\n",
      "0\n"
     ]
    }
   ],
   "source": [
    "x = np.random.randint(10, 16, 10)# YOUR CODE HERE\n",
    "print(x)\n",
    "max=np.max(x)\n",
    "print(max)\n",
    "max_index=np.argmax(x)\n",
    "print(max_index)"
   ]
  },
  {
   "cell_type": "markdown",
   "metadata": {},
   "source": [
    "###### q) Print out the max value of the array. "
   ]
  },
  {
   "cell_type": "markdown",
   "metadata": {},
   "source": [
    "###### q) Print out the position of the max value of the array. "
   ]
  },
  {
   "cell_type": "markdown",
   "metadata": {},
   "source": [
    "###### 5) Create a 10 element vector, y, of 1.  "
   ]
  },
  {
   "cell_type": "code",
   "execution_count": 21,
   "metadata": {},
   "outputs": [
    {
     "name": "stdout",
     "output_type": "stream",
     "text": [
      "[1 1 1 1 1 1 1 1 1 1]\n"
     ]
    }
   ],
   "source": [
    "y = np.ones(10,dtype = int)# YOUR CODE HERE\n",
    "print(y)"
   ]
  },
  {
   "cell_type": "markdown",
   "metadata": {},
   "source": [
    "###### 6) Add x and y together"
   ]
  },
  {
   "cell_type": "code",
   "execution_count": 22,
   "metadata": {},
   "outputs": [
    {
     "name": "stdout",
     "output_type": "stream",
     "text": [
      "[15 11 13 14 13 15 11 11 12 14]\n"
     ]
    }
   ],
   "source": [
    "answer = x+y# YOUR CODE HERE\n",
    "print(answer)"
   ]
  },
  {
   "cell_type": "markdown",
   "metadata": {},
   "source": [
    "###### 7) Convert the following matrix into a numpy array. "
   ]
  },
  {
   "cell_type": "markdown",
   "metadata": {},
   "source": [
    "$\\begin{bmatrix}\n",
    "5 & 10 & 15\\\\ \n",
    "2 &  13 & 23\n",
    "\\end{bmatrix}$"
   ]
  },
  {
   "cell_type": "code",
   "execution_count": 4,
   "metadata": {},
   "outputs": [
    {
     "name": "stdout",
     "output_type": "stream",
     "text": [
      "[[ 5 10 15]\n",
      " [ 2 13 23]]\n"
     ]
    }
   ],
   "source": [
    "matrix = np.array([[5,10,15],[2,13,23]])# YOUR CODE HERE\n",
    "\n",
    "print(matrix)"
   ]
  },
  {
   "cell_type": "markdown",
   "metadata": {},
   "source": [
    "###### 8) Transpose the matrix. You should get "
   ]
  },
  {
   "cell_type": "markdown",
   "metadata": {},
   "source": [
    "$\\begin{bmatrix}\n",
    "5 & 2 \\\\\n",
    "10 & 13 \\\\\n",
    "15 & 23 \\\\\n",
    "\\end{bmatrix}$"
   ]
  },
  {
   "cell_type": "code",
   "execution_count": 5,
   "metadata": {},
   "outputs": [
    {
     "name": "stdout",
     "output_type": "stream",
     "text": [
      "[[ 5  2]\n",
      " [10 13]\n",
      " [15 23]]\n"
     ]
    }
   ],
   "source": [
    "matrix_T = matrix.T# YOUR CODE HERE\n",
    "print(matrix_T)"
   ]
  },
  {
   "cell_type": "markdown",
   "metadata": {},
   "source": [
    "###### 9) Multiply matrix and matrix_T together. You should get "
   ]
  },
  {
   "cell_type": "markdown",
   "metadata": {},
   "source": [
    "$\\begin{bmatrix}\n",
    "350 & 485 \\\\\n",
    "485 & 702 \n",
    "\\end{bmatrix}$"
   ]
  },
  {
   "cell_type": "code",
   "execution_count": 6,
   "metadata": {},
   "outputs": [
    {
     "name": "stdout",
     "output_type": "stream",
     "text": [
      "[[350 485]\n",
      " [485 702]]\n"
     ]
    }
   ],
   "source": [
    "matrix_square = np.matmul(matrix,matrix_T)# YOUR CODE HERE\n",
    "print(matrix_square)"
   ]
  },
  {
   "cell_type": "markdown",
   "metadata": {},
   "source": [
    "###### q) Print out the determinant of the squared matrix. "
   ]
  },
  {
   "cell_type": "code",
   "execution_count": 31,
   "metadata": {},
   "outputs": [
    {
     "name": "stdout",
     "output_type": "stream",
     "text": [
      "10474.99999999999\n"
     ]
    }
   ],
   "source": [
    "det = np.linalg.det(matrix_square)# YOUR CODE HERE\n",
    "print(det)"
   ]
  },
  {
   "cell_type": "markdown",
   "metadata": {},
   "source": [
    "###### q) Print out the inverse matrix. "
   ]
  },
  {
   "cell_type": "code",
   "execution_count": 32,
   "metadata": {},
   "outputs": [
    {
     "name": "stdout",
     "output_type": "stream",
     "text": [
      "[[ 0.06701671 -0.04630072]\n",
      " [-0.04630072  0.03341289]]\n"
     ]
    }
   ],
   "source": [
    "inv = np.linalg.inv(matrix_square)# YOUR CODE HERE\n",
    "print(inv)"
   ]
  },
  {
   "cell_type": "markdown",
   "metadata": {},
   "source": [
    "###### q) Print out the eigenvectors and the eigenvalues of the squared matrix. "
   ]
  },
  {
   "cell_type": "code",
   "execution_count": 8,
   "metadata": {},
   "outputs": [
    {
     "name": "stdout",
     "output_type": "stream",
     "text": [
      "eigenvalues:  [  10.05329733 1041.94670267]\n",
      "eigenvectors:  [[-0.81887743 -0.57396842]\n",
      " [ 0.57396842 -0.81887743]]\n"
     ]
    }
   ],
   "source": [
    "eigenvalues ,eigenvectors = np.linalg.eig(matrix_square)# YOUR CODE HERE\n",
    "print('eigenvalues: ', eigenvalues)\n",
    "print('eigenvectors: ', eigenvectors)"
   ]
  },
  {
   "cell_type": "markdown",
   "metadata": {},
   "source": [
    "###### q) Check if the eigen properties hold true. "
   ]
  },
  {
   "cell_type": "markdown",
   "metadata": {},
   "source": [
    "Remember that the linear transformation by a matrix on its eigenvectors does not change the direction of the vector, only their lenghts. Eigenvalues are the scalars used to 'stretch' the eigenvectors during the transformation. \n",
    "\n",
    "$ Av = \\lambda v $ "
   ]
  },
  {
   "cell_type": "code",
   "execution_count": 10,
   "metadata": {},
   "outputs": [
    {
     "name": "stdout",
     "output_type": "stream",
     "text": [
      "[[350 485]\n",
      " [485 702]] [-0.81887743  0.57396842]\n",
      "ok for  0\n",
      "[-8.23241832  5.77027518] [-8.23241832  5.77027518]\n",
      "[[350 485]\n",
      " [485 702]] [-0.57396842 -0.81887743]\n",
      "ok for  1\n",
      "[-598.04450277 -853.22664277] [-598.04450277 -853.22664277]\n"
     ]
    }
   ],
   "source": [
    "#=============== YOUR CODE HERE ===================\n",
    "for i in range(2):\n",
    "    val1=np.dot(matrix_square[:,:], eigenvectors[:,i])\n",
    "    print(matrix_square[:, :], eigenvectors[:,i])\n",
    "    val2=eigenvalues[i] * eigenvectors[:,i]\n",
    "    if np.all([val1,val2]):\n",
    "        print('ok for ', i)\n",
    "    else:\n",
    "        print('no')\n",
    "    print(val1,val2)"
   ]
  },
  {
   "cell_type": "markdown",
   "metadata": {},
   "source": [
    "###### 10) Create a 3-element vector with integers of your choice. "
   ]
  },
  {
   "cell_type": "code",
   "execution_count": 75,
   "metadata": {},
   "outputs": [
    {
     "name": "stdout",
     "output_type": "stream",
     "text": [
      "[1 2 3]\n"
     ]
    }
   ],
   "source": [
    "v = np.array([1,2,3])# YOUR CODE HERE\n",
    "print(v)"
   ]
  },
  {
   "cell_type": "markdown",
   "metadata": {},
   "source": [
    "###### 11) Multiply matrix and v. \n",
    "Be careful, you want to make sure that the dimensions of the two arrays match up. Your vector should therefore be a (3, 1) matrix. Use the <b>shape<b> to see what dimension is <emph>v<emph> and <b>reshape<b> as needed. "
   ]
  },
  {
   "cell_type": "code",
   "execution_count": 80,
   "metadata": {},
   "outputs": [
    {
     "name": "stdout",
     "output_type": "stream",
     "text": [
      "[[1]\n",
      " [2]\n",
      " [3]]\n",
      "[[70]\n",
      " [97]]\n"
     ]
    }
   ],
   "source": [
    "#=============== YOUR CODE HERE ===================\n",
    "if v.shape!=(3,1):\n",
    "    v=v.reshape(3,1)\n",
    "print(v)\n",
    "answer=np.matmul(matrix,v)\n",
    "print(answer)"
   ]
  },
  {
   "cell_type": "markdown",
   "metadata": {},
   "source": [
    "###### 12) Flatten matrix into a 6-element vector. "
   ]
  },
  {
   "cell_type": "code",
   "execution_count": 85,
   "metadata": {},
   "outputs": [
    {
     "name": "stdout",
     "output_type": "stream",
     "text": [
      "[ 5 10 15  2 13 23]\n"
     ]
    }
   ],
   "source": [
    "flatten = matrix.flatten() # YOUR CODE HERE \n",
    "print(flatten)"
   ]
  },
  {
   "cell_type": "markdown",
   "metadata": {},
   "source": [
    "###### 13) Concatenate the following matrices."
   ]
  },
  {
   "cell_type": "markdown",
   "metadata": {},
   "source": [
    "*Note: Don't forget to convert the matrices to numpy arrays first.*"
   ]
  },
  {
   "cell_type": "code",
   "execution_count": 86,
   "metadata": {},
   "outputs": [],
   "source": [
    "matrix1 = [[1, 2, 3, 4, 5], \n",
    "           [6, 7, 8, 9, 10], \n",
    "           [11, 12, 13, 14, 15]]\n",
    "\n",
    "matrix2 = [[16, 17, 18, 19, 20],\n",
    "           [21, 22, 23, 24, 25],\n",
    "           [26, 27, 28, 29, 30]]"
   ]
  },
  {
   "cell_type": "markdown",
   "metadata": {},
   "source": [
    "a) along axis 0. \n",
    "You should get \n",
    "\n",
    "$\\begin{bmatrix}\n",
    " 1 & 2 & 3 & 4 & 5 \\\\\n",
    " 6 & 7 & 8 & 9 & 10 \\\\\n",
    " 11 & 12 & 13 & 14 & 15 \\\\\n",
    " 16 & 17 & 18 & 19 & 20 \\\\\n",
    " 21 & 22 & 23 & 24 & 25 \\\\\n",
    " 26 & 27 & 28 & 29 & 30\n",
    "\\end{bmatrix}$"
   ]
  },
  {
   "cell_type": "code",
   "execution_count": 87,
   "metadata": {},
   "outputs": [
    {
     "name": "stdout",
     "output_type": "stream",
     "text": [
      "[[ 1  2  3  4  5]\n",
      " [ 6  7  8  9 10]\n",
      " [11 12 13 14 15]\n",
      " [16 17 18 19 20]\n",
      " [21 22 23 24 25]\n",
      " [26 27 28 29 30]]\n"
     ]
    }
   ],
   "source": [
    "answer = np.array(matrix1+matrix2)# YOUR CODE HERE \n",
    "\n",
    "print(answer)"
   ]
  },
  {
   "cell_type": "markdown",
   "metadata": {},
   "source": [
    "b) along axis 1. You should get\n",
    "\n",
    "$\\begin{bmatrix}\n",
    " 1 & 2 & 3 & 4 & 5 & 16 & 17 & 18 & 19 & 20 \\\\\n",
    " 6 & 7 & 8 & 9 & 10 & 21 & 22 & 23 & 24 & 25 \\\\\n",
    " 11 & 12 & 13 & 14 & 15 & 26 & 27 & 28 & 29 & 30\n",
    "\\end{bmatrix}$"
   ]
  },
  {
   "cell_type": "code",
   "execution_count": 89,
   "metadata": {},
   "outputs": [
    {
     "name": "stdout",
     "output_type": "stream",
     "text": [
      "[[ 1  2  3  4  5 16 17 18 19 20]\n",
      " [ 6  7  8  9 10 21 22 23 24 25]\n",
      " [11 12 13 14 15 26 27 28 29 30]]\n"
     ]
    }
   ],
   "source": [
    "answer = np.array([matrix1[i]+matrix2[i] for i in range(3)])# YOUR CODE HERE \n",
    "\n",
    "print(answer)"
   ]
  },
  {
   "cell_type": "markdown",
   "metadata": {},
   "source": [
    "### Basic statistics "
   ]
  },
  {
   "cell_type": "markdown",
   "metadata": {},
   "source": [
    "###### Create a vector $v$ with 30 random integers from 1 to 20. "
   ]
  },
  {
   "cell_type": "code",
   "execution_count": 90,
   "metadata": {},
   "outputs": [
    {
     "name": "stdout",
     "output_type": "stream",
     "text": [
      "[ 2 16 20 14  4  4  7 18  8 18 11  8  9  6  5  6 17 17  7 10 12 20  8 11\n",
      " 18 11  7  5  4 17]\n"
     ]
    }
   ],
   "source": [
    "v = np.random.randint(1,21,30)# YOUR CODE HERE \n",
    "print(v)"
   ]
  },
  {
   "cell_type": "markdown",
   "metadata": {},
   "source": [
    "###### Print out the median of the list $ v $."
   ]
  },
  {
   "cell_type": "code",
   "execution_count": 91,
   "metadata": {},
   "outputs": [
    {
     "name": "stdout",
     "output_type": "stream",
     "text": [
      "9.5\n"
     ]
    }
   ],
   "source": [
    "median = np.median(v)# YOUR CODE HERE \n",
    "print(median)"
   ]
  },
  {
   "cell_type": "markdown",
   "metadata": {},
   "source": [
    "###### Print out the standard deviation of $ v$."
   ]
  },
  {
   "cell_type": "code",
   "execution_count": 92,
   "metadata": {},
   "outputs": [
    {
     "name": "stdout",
     "output_type": "stream",
     "text": [
      "5.411920998027307\n"
     ]
    }
   ],
   "source": [
    "std = np.std(v)# YOUR CODE HERE\n",
    "print(std)"
   ]
  },
  {
   "cell_type": "markdown",
   "metadata": {},
   "source": [
    "###### q) Randomly sample 5 items from the following list."
   ]
  },
  {
   "cell_type": "code",
   "execution_count": 93,
   "metadata": {},
   "outputs": [
    {
     "name": "stdout",
     "output_type": "stream",
     "text": [
      "[0 1 2 3 4 5 6 7 8 9]\n"
     ]
    }
   ],
   "source": [
    "list = np.arange(10) \n",
    "print(list)"
   ]
  },
  {
   "cell_type": "code",
   "execution_count": 97,
   "metadata": {},
   "outputs": [
    {
     "name": "stdout",
     "output_type": "stream",
     "text": [
      "[4 2 5 4 6]\n"
     ]
    }
   ],
   "source": [
    "sample = np.random.choice(list,5)# YOUR CODE HERE \n",
    "print(sample)"
   ]
  },
  {
   "cell_type": "markdown",
   "metadata": {},
   "source": [
    "###### q) Now sample 5 items again from the list, but this time without replacement. \n",
    "If you are sampling with replacement, after each sampling, the item you chose is put into the pool and can be chosen again in following samplings. Whereas, the items are removed from the pool and will not be available again if you are not sampling with replacement. "
   ]
  },
  {
   "cell_type": "code",
   "execution_count": 99,
   "metadata": {},
   "outputs": [
    {
     "name": "stdout",
     "output_type": "stream",
     "text": [
      "[5 0 1 8 6]\n"
     ]
    }
   ],
   "source": [
    "sample = np.random.choice(list,5,False)# YOUR CODE HERE \n",
    "print(sample)"
   ]
  },
  {
   "cell_type": "markdown",
   "metadata": {},
   "source": [
    "### Now it is time for a (small) challenge "
   ]
  },
  {
   "cell_type": "markdown",
   "metadata": {},
   "source": [
    "###### Maximum A Posteriori \n",
    "At a very high level, in Bayesian statistics, MAP is an estimate of an unknown quantity that takes into considerations prior assumptions and past events. \n",
    "For example, in a coin toss, the theoretical assumption is 0.5 probability of face and tail. However, the probability distribution will change based on the previous results of the coin toss.\n",
    "\n",
    "Let $x$ be the random variable of the coin toss, with $x$ = 1 being Head and $x$ = 0 Tail. Let $\\theta$ be the probability of getting 1. Intuitively, suppose you get 3 heads out of 10 tosses, your $\\theta$ value would be $\\theta = \\frac{head}{total} = \\frac{3}{10} = 0.3$.\n",
    "\n",
    "\n",
    "We can model the coin toss with a Bernouilli equation. \n",
    "$\\theta = P(x = 1) = 1 - P(x = 0)$. \n",
    "\n",
    "The probability mass function of $x$ depending on $\\theta$ is then $P(x | \\theta) = \\theta^x (1 - \\theta)^{1-x}$, where $\\theta$ is defined by prior data and updated after each iteration. \n",
    "\n",
    "\n",
    "\n",
    "The formula to estimate the probability is $ \\hat{\\theta}_{MAP}(x) = \\underset{\\theta}{\\mathrm{argmin}} P(x | \\theta) P(\\theta)$\n",
    "\n",
    "You can read more about MAP here: https://wiseodd.github.io/techblog/2017/01/01/mle-vs-map/\n"
   ]
  },
  {
   "cell_type": "markdown",
   "metadata": {},
   "source": [
    "###### Given this, code out a formula that estimates the probability of a BIASED coin landing on HEAD after 20 tosses. \n",
    "\n",
    "Assume that you did not know that coin was biased at the beginning, so start with a $P(x = 1) = 0.5$. \n",
    "Toss your coin with a bias of $P(x = 1) = 0.8$. After each iteration, print out the total number of Tails and Heads you have gotten, and the updated $\\theta$. \n",
    "\n",
    "What do you observe? \n",
    "\n"
   ]
  },
  {
   "cell_type": "code",
   "execution_count": 14,
   "metadata": {},
   "outputs": [
    {
     "name": "stdout",
     "output_type": "stream",
     "text": [
      "Toss no 1 \n",
      " Heads: 1, Tails 0, Theta MAP: 0.666667\n",
      "Toss no 2 \n",
      " Heads: 1, Tails 1, Theta MAP: 0.500000\n",
      "Toss no 3 \n",
      " Heads: 2, Tails 1, Theta MAP: 0.600000\n",
      "Toss no 4 \n",
      " Heads: 3, Tails 1, Theta MAP: 0.666667\n",
      "Toss no 5 \n",
      " Heads: 4, Tails 1, Theta MAP: 0.714286\n",
      "Toss no 6 \n",
      " Heads: 4, Tails 2, Theta MAP: 0.625000\n",
      "Toss no 7 \n",
      " Heads: 5, Tails 2, Theta MAP: 0.666667\n",
      "Toss no 8 \n",
      " Heads: 6, Tails 2, Theta MAP: 0.700000\n",
      "Toss no 9 \n",
      " Heads: 7, Tails 2, Theta MAP: 0.727273\n",
      "Toss no 10 \n",
      " Heads: 8, Tails 2, Theta MAP: 0.750000\n",
      "Toss no 11 \n",
      " Heads: 9, Tails 2, Theta MAP: 0.769231\n",
      "Toss no 12 \n",
      " Heads: 10, Tails 2, Theta MAP: 0.785714\n",
      "Toss no 13 \n",
      " Heads: 11, Tails 2, Theta MAP: 0.800000\n",
      "Toss no 14 \n",
      " Heads: 12, Tails 2, Theta MAP: 0.812500\n",
      "Toss no 15 \n",
      " Heads: 13, Tails 2, Theta MAP: 0.823529\n",
      "Toss no 16 \n",
      " Heads: 14, Tails 2, Theta MAP: 0.833333\n",
      "Toss no 17 \n",
      " Heads: 14, Tails 3, Theta MAP: 0.789474\n",
      "Toss no 18 \n",
      " Heads: 15, Tails 3, Theta MAP: 0.800000\n",
      "Toss no 19 \n",
      " Heads: 16, Tails 3, Theta MAP: 0.809524\n",
      "Toss no 20 \n",
      " Heads: 17, Tails 3, Theta MAP: 0.818182\n"
     ]
    }
   ],
   "source": [
    "#=============== YOUR CODE HERE ===================\n",
    "#With alpha=beta=2\n",
    "import random\n",
    "def theta(head, total):\n",
    "    return ((2+head-1)/(2+total)) #2+2+heads+tails-2=2+total\n",
    "\n",
    "def main():\n",
    "    head=0\n",
    "    proba=[0,0,1,1,1,1,1,1,1,1] #0.8 theorical probability to get a head\n",
    "    for i in range(20):\n",
    "        res=proba[random.randint(0,9)]\n",
    "        if res==1:\n",
    "            head+=1\n",
    "        theta_now=theta(head,i+1)\n",
    "        print('Toss no %d \\n Heads: %d, Tails %d, Theta MAP: %lf' %(i+1, head, i+1-head, theta_now))\n",
    "if __name__=='__main__':\n",
    "    main()\n",
    "    \n",
    "#I observe that the MAP approaches 0.8. "
   ]
  },
  {
   "cell_type": "markdown",
   "metadata": {},
   "source": [
    "<div style=\"background-color:#F9F2EB; text-align:left; padding: 10px;\">\n",
    "Your dataset description here: ... "
   ]
  },
  {
   "cell_type": "code",
   "execution_count": null,
   "metadata": {},
   "outputs": [],
   "source": []
  }
 ],
 "metadata": {
  "kernelspec": {
   "display_name": "Python 3",
   "language": "python",
   "name": "python3"
  },
  "language_info": {
   "codemirror_mode": {
    "name": "ipython",
    "version": 3
   },
   "file_extension": ".py",
   "mimetype": "text/x-python",
   "name": "python",
   "nbconvert_exporter": "python",
   "pygments_lexer": "ipython3",
   "version": "3.7.4"
  }
 },
 "nbformat": 4,
 "nbformat_minor": 2
}
